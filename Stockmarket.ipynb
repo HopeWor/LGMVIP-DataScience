{
  "nbformat": 4,
  "nbformat_minor": 0,
  "metadata": {
    "colab": {
      "provenance": [],
      "authorship_tag": "ABX9TyNQF9L2TLQvG/stgypO0+0U",
      "include_colab_link": true
    },
    "kernelspec": {
      "name": "python3",
      "display_name": "Python 3"
    },
    "language_info": {
      "name": "python"
    }
  },
  "cells": [
    {
      "cell_type": "markdown",
      "metadata": {
        "id": "view-in-github",
        "colab_type": "text"
      },
      "source": [
        "<a href=\"https://colab.research.google.com/github/HopeWor/LGMVIP_DS/blob/main/Stockmarket.ipynb\" target=\"_parent\"><img src=\"https://colab.research.google.com/assets/colab-badge.svg\" alt=\"Open In Colab\"/></a>"
      ]
    },
    {
      "cell_type": "markdown",
      "source": [
        "**Loading Dataset**"
      ],
      "metadata": {
        "id": "u7TwrpUNqBJl"
      }
    },
    {
      "cell_type": "code",
      "execution_count": null,
      "metadata": {
        "colab": {
          "base_uri": "https://localhost:8080/",
          "height": 424
        },
        "id": "aO2QXdzQdec4",
        "outputId": "b4d1f316-3f9a-4fe3-d955-fb3b546efe93"
      },
      "outputs": [
        {
          "output_type": "execute_result",
          "data": {
            "text/plain": [
              "            Date    Open    High     Low    Last   Close  \\\n",
              "0     2018-09-28  234.05  235.95  230.20  233.50  233.75   \n",
              "1     2018-09-27  234.55  236.80  231.10  233.80  233.25   \n",
              "2     2018-09-26  240.00  240.00  232.50  235.00  234.25   \n",
              "3     2018-09-25  233.30  236.75  232.00  236.25  236.10   \n",
              "4     2018-09-24  233.55  239.20  230.75  234.00  233.30   \n",
              "...          ...     ...     ...     ...     ...     ...   \n",
              "2030  2010-07-27  117.60  119.50  112.00  118.80  118.65   \n",
              "2031  2010-07-26  120.10  121.00  117.10  117.10  117.60   \n",
              "2032  2010-07-23  121.80  121.95  120.25  120.35  120.65   \n",
              "2033  2010-07-22  120.30  122.00  120.25  120.75  120.90   \n",
              "2034  2010-07-21  122.10  123.00  121.05  121.10  121.55   \n",
              "\n",
              "      Total Trade Quantity  Turnover (Lacs)  \n",
              "0                  3069914          7162.35  \n",
              "1                  5082859         11859.95  \n",
              "2                  2240909          5248.60  \n",
              "3                  2349368          5503.90  \n",
              "4                  3423509          7999.55  \n",
              "...                    ...              ...  \n",
              "2030                586100           694.98  \n",
              "2031                658440           780.01  \n",
              "2032                281312           340.31  \n",
              "2033                293312           355.17  \n",
              "2034                658666           803.56  \n",
              "\n",
              "[2035 rows x 8 columns]"
            ],
            "text/html": [
              "\n",
              "  <div id=\"df-807c9453-4b29-4a88-92f4-25d03aec1e1e\">\n",
              "    <div class=\"colab-df-container\">\n",
              "      <div>\n",
              "<style scoped>\n",
              "    .dataframe tbody tr th:only-of-type {\n",
              "        vertical-align: middle;\n",
              "    }\n",
              "\n",
              "    .dataframe tbody tr th {\n",
              "        vertical-align: top;\n",
              "    }\n",
              "\n",
              "    .dataframe thead th {\n",
              "        text-align: right;\n",
              "    }\n",
              "</style>\n",
              "<table border=\"1\" class=\"dataframe\">\n",
              "  <thead>\n",
              "    <tr style=\"text-align: right;\">\n",
              "      <th></th>\n",
              "      <th>Date</th>\n",
              "      <th>Open</th>\n",
              "      <th>High</th>\n",
              "      <th>Low</th>\n",
              "      <th>Last</th>\n",
              "      <th>Close</th>\n",
              "      <th>Total Trade Quantity</th>\n",
              "      <th>Turnover (Lacs)</th>\n",
              "    </tr>\n",
              "  </thead>\n",
              "  <tbody>\n",
              "    <tr>\n",
              "      <th>0</th>\n",
              "      <td>2018-09-28</td>\n",
              "      <td>234.05</td>\n",
              "      <td>235.95</td>\n",
              "      <td>230.20</td>\n",
              "      <td>233.50</td>\n",
              "      <td>233.75</td>\n",
              "      <td>3069914</td>\n",
              "      <td>7162.35</td>\n",
              "    </tr>\n",
              "    <tr>\n",
              "      <th>1</th>\n",
              "      <td>2018-09-27</td>\n",
              "      <td>234.55</td>\n",
              "      <td>236.80</td>\n",
              "      <td>231.10</td>\n",
              "      <td>233.80</td>\n",
              "      <td>233.25</td>\n",
              "      <td>5082859</td>\n",
              "      <td>11859.95</td>\n",
              "    </tr>\n",
              "    <tr>\n",
              "      <th>2</th>\n",
              "      <td>2018-09-26</td>\n",
              "      <td>240.00</td>\n",
              "      <td>240.00</td>\n",
              "      <td>232.50</td>\n",
              "      <td>235.00</td>\n",
              "      <td>234.25</td>\n",
              "      <td>2240909</td>\n",
              "      <td>5248.60</td>\n",
              "    </tr>\n",
              "    <tr>\n",
              "      <th>3</th>\n",
              "      <td>2018-09-25</td>\n",
              "      <td>233.30</td>\n",
              "      <td>236.75</td>\n",
              "      <td>232.00</td>\n",
              "      <td>236.25</td>\n",
              "      <td>236.10</td>\n",
              "      <td>2349368</td>\n",
              "      <td>5503.90</td>\n",
              "    </tr>\n",
              "    <tr>\n",
              "      <th>4</th>\n",
              "      <td>2018-09-24</td>\n",
              "      <td>233.55</td>\n",
              "      <td>239.20</td>\n",
              "      <td>230.75</td>\n",
              "      <td>234.00</td>\n",
              "      <td>233.30</td>\n",
              "      <td>3423509</td>\n",
              "      <td>7999.55</td>\n",
              "    </tr>\n",
              "    <tr>\n",
              "      <th>...</th>\n",
              "      <td>...</td>\n",
              "      <td>...</td>\n",
              "      <td>...</td>\n",
              "      <td>...</td>\n",
              "      <td>...</td>\n",
              "      <td>...</td>\n",
              "      <td>...</td>\n",
              "      <td>...</td>\n",
              "    </tr>\n",
              "    <tr>\n",
              "      <th>2030</th>\n",
              "      <td>2010-07-27</td>\n",
              "      <td>117.60</td>\n",
              "      <td>119.50</td>\n",
              "      <td>112.00</td>\n",
              "      <td>118.80</td>\n",
              "      <td>118.65</td>\n",
              "      <td>586100</td>\n",
              "      <td>694.98</td>\n",
              "    </tr>\n",
              "    <tr>\n",
              "      <th>2031</th>\n",
              "      <td>2010-07-26</td>\n",
              "      <td>120.10</td>\n",
              "      <td>121.00</td>\n",
              "      <td>117.10</td>\n",
              "      <td>117.10</td>\n",
              "      <td>117.60</td>\n",
              "      <td>658440</td>\n",
              "      <td>780.01</td>\n",
              "    </tr>\n",
              "    <tr>\n",
              "      <th>2032</th>\n",
              "      <td>2010-07-23</td>\n",
              "      <td>121.80</td>\n",
              "      <td>121.95</td>\n",
              "      <td>120.25</td>\n",
              "      <td>120.35</td>\n",
              "      <td>120.65</td>\n",
              "      <td>281312</td>\n",
              "      <td>340.31</td>\n",
              "    </tr>\n",
              "    <tr>\n",
              "      <th>2033</th>\n",
              "      <td>2010-07-22</td>\n",
              "      <td>120.30</td>\n",
              "      <td>122.00</td>\n",
              "      <td>120.25</td>\n",
              "      <td>120.75</td>\n",
              "      <td>120.90</td>\n",
              "      <td>293312</td>\n",
              "      <td>355.17</td>\n",
              "    </tr>\n",
              "    <tr>\n",
              "      <th>2034</th>\n",
              "      <td>2010-07-21</td>\n",
              "      <td>122.10</td>\n",
              "      <td>123.00</td>\n",
              "      <td>121.05</td>\n",
              "      <td>121.10</td>\n",
              "      <td>121.55</td>\n",
              "      <td>658666</td>\n",
              "      <td>803.56</td>\n",
              "    </tr>\n",
              "  </tbody>\n",
              "</table>\n",
              "<p>2035 rows × 8 columns</p>\n",
              "</div>\n",
              "      <button class=\"colab-df-convert\" onclick=\"convertToInteractive('df-807c9453-4b29-4a88-92f4-25d03aec1e1e')\"\n",
              "              title=\"Convert this dataframe to an interactive table.\"\n",
              "              style=\"display:none;\">\n",
              "        \n",
              "  <svg xmlns=\"http://www.w3.org/2000/svg\" height=\"24px\"viewBox=\"0 0 24 24\"\n",
              "       width=\"24px\">\n",
              "    <path d=\"M0 0h24v24H0V0z\" fill=\"none\"/>\n",
              "    <path d=\"M18.56 5.44l.94 2.06.94-2.06 2.06-.94-2.06-.94-.94-2.06-.94 2.06-2.06.94zm-11 1L8.5 8.5l.94-2.06 2.06-.94-2.06-.94L8.5 2.5l-.94 2.06-2.06.94zm10 10l.94 2.06.94-2.06 2.06-.94-2.06-.94-.94-2.06-.94 2.06-2.06.94z\"/><path d=\"M17.41 7.96l-1.37-1.37c-.4-.4-.92-.59-1.43-.59-.52 0-1.04.2-1.43.59L10.3 9.45l-7.72 7.72c-.78.78-.78 2.05 0 2.83L4 21.41c.39.39.9.59 1.41.59.51 0 1.02-.2 1.41-.59l7.78-7.78 2.81-2.81c.8-.78.8-2.07 0-2.86zM5.41 20L4 18.59l7.72-7.72 1.47 1.35L5.41 20z\"/>\n",
              "  </svg>\n",
              "      </button>\n",
              "      \n",
              "  <style>\n",
              "    .colab-df-container {\n",
              "      display:flex;\n",
              "      flex-wrap:wrap;\n",
              "      gap: 12px;\n",
              "    }\n",
              "\n",
              "    .colab-df-convert {\n",
              "      background-color: #E8F0FE;\n",
              "      border: none;\n",
              "      border-radius: 50%;\n",
              "      cursor: pointer;\n",
              "      display: none;\n",
              "      fill: #1967D2;\n",
              "      height: 32px;\n",
              "      padding: 0 0 0 0;\n",
              "      width: 32px;\n",
              "    }\n",
              "\n",
              "    .colab-df-convert:hover {\n",
              "      background-color: #E2EBFA;\n",
              "      box-shadow: 0px 1px 2px rgba(60, 64, 67, 0.3), 0px 1px 3px 1px rgba(60, 64, 67, 0.15);\n",
              "      fill: #174EA6;\n",
              "    }\n",
              "\n",
              "    [theme=dark] .colab-df-convert {\n",
              "      background-color: #3B4455;\n",
              "      fill: #D2E3FC;\n",
              "    }\n",
              "\n",
              "    [theme=dark] .colab-df-convert:hover {\n",
              "      background-color: #434B5C;\n",
              "      box-shadow: 0px 1px 3px 1px rgba(0, 0, 0, 0.15);\n",
              "      filter: drop-shadow(0px 1px 2px rgba(0, 0, 0, 0.3));\n",
              "      fill: #FFFFFF;\n",
              "    }\n",
              "  </style>\n",
              "\n",
              "      <script>\n",
              "        const buttonEl =\n",
              "          document.querySelector('#df-807c9453-4b29-4a88-92f4-25d03aec1e1e button.colab-df-convert');\n",
              "        buttonEl.style.display =\n",
              "          google.colab.kernel.accessAllowed ? 'block' : 'none';\n",
              "\n",
              "        async function convertToInteractive(key) {\n",
              "          const element = document.querySelector('#df-807c9453-4b29-4a88-92f4-25d03aec1e1e');\n",
              "          const dataTable =\n",
              "            await google.colab.kernel.invokeFunction('convertToInteractive',\n",
              "                                                     [key], {});\n",
              "          if (!dataTable) return;\n",
              "\n",
              "          const docLinkHtml = 'Like what you see? Visit the ' +\n",
              "            '<a target=\"_blank\" href=https://colab.research.google.com/notebooks/data_table.ipynb>data table notebook</a>'\n",
              "            + ' to learn more about interactive tables.';\n",
              "          element.innerHTML = '';\n",
              "          dataTable['output_type'] = 'display_data';\n",
              "          await google.colab.output.renderOutput(dataTable, element);\n",
              "          const docLink = document.createElement('div');\n",
              "          docLink.innerHTML = docLinkHtml;\n",
              "          element.appendChild(docLink);\n",
              "        }\n",
              "      </script>\n",
              "    </div>\n",
              "  </div>\n",
              "  "
            ]
          },
          "metadata": {},
          "execution_count": 1
        }
      ],
      "source": [
        "import numpy as np\n",
        "import pandas as pd\n",
        "df=pd.read_csv(\"//content//sample_data//dataset1.csv\")\n",
        "df"
      ]
    },
    {
      "cell_type": "markdown",
      "source": [
        "**Dataset** **Information**"
      ],
      "metadata": {
        "id": "Eqbd-NCunE-g"
      }
    },
    {
      "cell_type": "code",
      "source": [
        "df.info()"
      ],
      "metadata": {
        "colab": {
          "base_uri": "https://localhost:8080/"
        },
        "id": "5tjoKY2_eBaN",
        "outputId": "58a653f6-20db-449b-e419-13a480797e6b"
      },
      "execution_count": null,
      "outputs": [
        {
          "output_type": "stream",
          "name": "stdout",
          "text": [
            "<class 'pandas.core.frame.DataFrame'>\n",
            "RangeIndex: 2035 entries, 2034 to 0\n",
            "Data columns (total 8 columns):\n",
            " #   Column                Non-Null Count  Dtype  \n",
            "---  ------                --------------  -----  \n",
            " 0   Date                  2035 non-null   object \n",
            " 1   Open                  2035 non-null   float64\n",
            " 2   High                  2035 non-null   float64\n",
            " 3   Low                   2035 non-null   float64\n",
            " 4   Last                  2035 non-null   float64\n",
            " 5   Close                 2035 non-null   float64\n",
            " 6   Total Trade Quantity  2035 non-null   int64  \n",
            " 7   Turnover (Lacs)       2035 non-null   float64\n",
            "dtypes: float64(6), int64(1), object(1)\n",
            "memory usage: 127.3+ KB\n"
          ]
        }
      ]
    },
    {
      "cell_type": "code",
      "source": [
        "df.describe()"
      ],
      "metadata": {
        "colab": {
          "base_uri": "https://localhost:8080/",
          "height": 300
        },
        "id": "nX65-ffNeDmo",
        "outputId": "2224bd07-0e65-4c58-f348-2b7e42ec2983"
      },
      "execution_count": null,
      "outputs": [
        {
          "output_type": "execute_result",
          "data": {
            "text/plain": [
              "              Open         High          Low         Last       Close  \\\n",
              "count  2035.000000  2035.000000  2035.000000  2035.000000  2035.00000   \n",
              "mean    149.713735   151.992826   147.293931   149.474251   149.45027   \n",
              "std      48.664509    49.413109    47.931958    48.732570    48.71204   \n",
              "min      81.100000    82.800000    80.000000    81.000000    80.95000   \n",
              "25%     120.025000   122.100000   118.300000   120.075000   120.05000   \n",
              "50%     141.500000   143.400000   139.600000   141.100000   141.25000   \n",
              "75%     157.175000   159.400000   155.150000   156.925000   156.90000   \n",
              "max     327.700000   328.750000   321.650000   325.950000   325.75000   \n",
              "\n",
              "       Total Trade Quantity  Turnover (Lacs)  \n",
              "count          2.035000e+03      2035.000000  \n",
              "mean           2.335681e+06      3899.980565  \n",
              "std            2.091778e+06      4570.767877  \n",
              "min            3.961000e+04        37.040000  \n",
              "25%            1.146444e+06      1427.460000  \n",
              "50%            1.783456e+06      2512.030000  \n",
              "75%            2.813594e+06      4539.015000  \n",
              "max            2.919102e+07     55755.080000  "
            ],
            "text/html": [
              "\n",
              "  <div id=\"df-5c0ac1c7-a25b-4f8c-bb61-3cc17346a2a8\">\n",
              "    <div class=\"colab-df-container\">\n",
              "      <div>\n",
              "<style scoped>\n",
              "    .dataframe tbody tr th:only-of-type {\n",
              "        vertical-align: middle;\n",
              "    }\n",
              "\n",
              "    .dataframe tbody tr th {\n",
              "        vertical-align: top;\n",
              "    }\n",
              "\n",
              "    .dataframe thead th {\n",
              "        text-align: right;\n",
              "    }\n",
              "</style>\n",
              "<table border=\"1\" class=\"dataframe\">\n",
              "  <thead>\n",
              "    <tr style=\"text-align: right;\">\n",
              "      <th></th>\n",
              "      <th>Open</th>\n",
              "      <th>High</th>\n",
              "      <th>Low</th>\n",
              "      <th>Last</th>\n",
              "      <th>Close</th>\n",
              "      <th>Total Trade Quantity</th>\n",
              "      <th>Turnover (Lacs)</th>\n",
              "    </tr>\n",
              "  </thead>\n",
              "  <tbody>\n",
              "    <tr>\n",
              "      <th>count</th>\n",
              "      <td>2035.000000</td>\n",
              "      <td>2035.000000</td>\n",
              "      <td>2035.000000</td>\n",
              "      <td>2035.000000</td>\n",
              "      <td>2035.00000</td>\n",
              "      <td>2.035000e+03</td>\n",
              "      <td>2035.000000</td>\n",
              "    </tr>\n",
              "    <tr>\n",
              "      <th>mean</th>\n",
              "      <td>149.713735</td>\n",
              "      <td>151.992826</td>\n",
              "      <td>147.293931</td>\n",
              "      <td>149.474251</td>\n",
              "      <td>149.45027</td>\n",
              "      <td>2.335681e+06</td>\n",
              "      <td>3899.980565</td>\n",
              "    </tr>\n",
              "    <tr>\n",
              "      <th>std</th>\n",
              "      <td>48.664509</td>\n",
              "      <td>49.413109</td>\n",
              "      <td>47.931958</td>\n",
              "      <td>48.732570</td>\n",
              "      <td>48.71204</td>\n",
              "      <td>2.091778e+06</td>\n",
              "      <td>4570.767877</td>\n",
              "    </tr>\n",
              "    <tr>\n",
              "      <th>min</th>\n",
              "      <td>81.100000</td>\n",
              "      <td>82.800000</td>\n",
              "      <td>80.000000</td>\n",
              "      <td>81.000000</td>\n",
              "      <td>80.95000</td>\n",
              "      <td>3.961000e+04</td>\n",
              "      <td>37.040000</td>\n",
              "    </tr>\n",
              "    <tr>\n",
              "      <th>25%</th>\n",
              "      <td>120.025000</td>\n",
              "      <td>122.100000</td>\n",
              "      <td>118.300000</td>\n",
              "      <td>120.075000</td>\n",
              "      <td>120.05000</td>\n",
              "      <td>1.146444e+06</td>\n",
              "      <td>1427.460000</td>\n",
              "    </tr>\n",
              "    <tr>\n",
              "      <th>50%</th>\n",
              "      <td>141.500000</td>\n",
              "      <td>143.400000</td>\n",
              "      <td>139.600000</td>\n",
              "      <td>141.100000</td>\n",
              "      <td>141.25000</td>\n",
              "      <td>1.783456e+06</td>\n",
              "      <td>2512.030000</td>\n",
              "    </tr>\n",
              "    <tr>\n",
              "      <th>75%</th>\n",
              "      <td>157.175000</td>\n",
              "      <td>159.400000</td>\n",
              "      <td>155.150000</td>\n",
              "      <td>156.925000</td>\n",
              "      <td>156.90000</td>\n",
              "      <td>2.813594e+06</td>\n",
              "      <td>4539.015000</td>\n",
              "    </tr>\n",
              "    <tr>\n",
              "      <th>max</th>\n",
              "      <td>327.700000</td>\n",
              "      <td>328.750000</td>\n",
              "      <td>321.650000</td>\n",
              "      <td>325.950000</td>\n",
              "      <td>325.75000</td>\n",
              "      <td>2.919102e+07</td>\n",
              "      <td>55755.080000</td>\n",
              "    </tr>\n",
              "  </tbody>\n",
              "</table>\n",
              "</div>\n",
              "      <button class=\"colab-df-convert\" onclick=\"convertToInteractive('df-5c0ac1c7-a25b-4f8c-bb61-3cc17346a2a8')\"\n",
              "              title=\"Convert this dataframe to an interactive table.\"\n",
              "              style=\"display:none;\">\n",
              "        \n",
              "  <svg xmlns=\"http://www.w3.org/2000/svg\" height=\"24px\"viewBox=\"0 0 24 24\"\n",
              "       width=\"24px\">\n",
              "    <path d=\"M0 0h24v24H0V0z\" fill=\"none\"/>\n",
              "    <path d=\"M18.56 5.44l.94 2.06.94-2.06 2.06-.94-2.06-.94-.94-2.06-.94 2.06-2.06.94zm-11 1L8.5 8.5l.94-2.06 2.06-.94-2.06-.94L8.5 2.5l-.94 2.06-2.06.94zm10 10l.94 2.06.94-2.06 2.06-.94-2.06-.94-.94-2.06-.94 2.06-2.06.94z\"/><path d=\"M17.41 7.96l-1.37-1.37c-.4-.4-.92-.59-1.43-.59-.52 0-1.04.2-1.43.59L10.3 9.45l-7.72 7.72c-.78.78-.78 2.05 0 2.83L4 21.41c.39.39.9.59 1.41.59.51 0 1.02-.2 1.41-.59l7.78-7.78 2.81-2.81c.8-.78.8-2.07 0-2.86zM5.41 20L4 18.59l7.72-7.72 1.47 1.35L5.41 20z\"/>\n",
              "  </svg>\n",
              "      </button>\n",
              "      \n",
              "  <style>\n",
              "    .colab-df-container {\n",
              "      display:flex;\n",
              "      flex-wrap:wrap;\n",
              "      gap: 12px;\n",
              "    }\n",
              "\n",
              "    .colab-df-convert {\n",
              "      background-color: #E8F0FE;\n",
              "      border: none;\n",
              "      border-radius: 50%;\n",
              "      cursor: pointer;\n",
              "      display: none;\n",
              "      fill: #1967D2;\n",
              "      height: 32px;\n",
              "      padding: 0 0 0 0;\n",
              "      width: 32px;\n",
              "    }\n",
              "\n",
              "    .colab-df-convert:hover {\n",
              "      background-color: #E2EBFA;\n",
              "      box-shadow: 0px 1px 2px rgba(60, 64, 67, 0.3), 0px 1px 3px 1px rgba(60, 64, 67, 0.15);\n",
              "      fill: #174EA6;\n",
              "    }\n",
              "\n",
              "    [theme=dark] .colab-df-convert {\n",
              "      background-color: #3B4455;\n",
              "      fill: #D2E3FC;\n",
              "    }\n",
              "\n",
              "    [theme=dark] .colab-df-convert:hover {\n",
              "      background-color: #434B5C;\n",
              "      box-shadow: 0px 1px 3px 1px rgba(0, 0, 0, 0.15);\n",
              "      filter: drop-shadow(0px 1px 2px rgba(0, 0, 0, 0.3));\n",
              "      fill: #FFFFFF;\n",
              "    }\n",
              "  </style>\n",
              "\n",
              "      <script>\n",
              "        const buttonEl =\n",
              "          document.querySelector('#df-5c0ac1c7-a25b-4f8c-bb61-3cc17346a2a8 button.colab-df-convert');\n",
              "        buttonEl.style.display =\n",
              "          google.colab.kernel.accessAllowed ? 'block' : 'none';\n",
              "\n",
              "        async function convertToInteractive(key) {\n",
              "          const element = document.querySelector('#df-5c0ac1c7-a25b-4f8c-bb61-3cc17346a2a8');\n",
              "          const dataTable =\n",
              "            await google.colab.kernel.invokeFunction('convertToInteractive',\n",
              "                                                     [key], {});\n",
              "          if (!dataTable) return;\n",
              "\n",
              "          const docLinkHtml = 'Like what you see? Visit the ' +\n",
              "            '<a target=\"_blank\" href=https://colab.research.google.com/notebooks/data_table.ipynb>data table notebook</a>'\n",
              "            + ' to learn more about interactive tables.';\n",
              "          element.innerHTML = '';\n",
              "          dataTable['output_type'] = 'display_data';\n",
              "          await google.colab.output.renderOutput(dataTable, element);\n",
              "          const docLink = document.createElement('div');\n",
              "          docLink.innerHTML = docLinkHtml;\n",
              "          element.appendChild(docLink);\n",
              "        }\n",
              "      </script>\n",
              "    </div>\n",
              "  </div>\n",
              "  "
            ]
          },
          "metadata": {},
          "execution_count": 4
        }
      ]
    },
    {
      "cell_type": "code",
      "source": [
        "df.drop_duplicates(inplace=True)\n",
        "df"
      ],
      "metadata": {
        "colab": {
          "base_uri": "https://localhost:8080/",
          "height": 424
        },
        "id": "mq3ELEAFeF4H",
        "outputId": "239d968e-aec8-4033-adb1-917ec33722c5"
      },
      "execution_count": null,
      "outputs": [
        {
          "output_type": "execute_result",
          "data": {
            "text/plain": [
              "            Date    Open    High     Low    Last   Close  \\\n",
              "2034  2010-07-21  122.10  123.00  121.05  121.10  121.55   \n",
              "2033  2010-07-22  120.30  122.00  120.25  120.75  120.90   \n",
              "2032  2010-07-23  121.80  121.95  120.25  120.35  120.65   \n",
              "2031  2010-07-26  120.10  121.00  117.10  117.10  117.60   \n",
              "2030  2010-07-27  117.60  119.50  112.00  118.80  118.65   \n",
              "...          ...     ...     ...     ...     ...     ...   \n",
              "4     2018-09-24  233.55  239.20  230.75  234.00  233.30   \n",
              "3     2018-09-25  233.30  236.75  232.00  236.25  236.10   \n",
              "2     2018-09-26  240.00  240.00  232.50  235.00  234.25   \n",
              "1     2018-09-27  234.55  236.80  231.10  233.80  233.25   \n",
              "0     2018-09-28  234.05  235.95  230.20  233.50  233.75   \n",
              "\n",
              "      Total Trade Quantity  Turnover (Lacs)  \n",
              "2034                658666           803.56  \n",
              "2033                293312           355.17  \n",
              "2032                281312           340.31  \n",
              "2031                658440           780.01  \n",
              "2030                586100           694.98  \n",
              "...                    ...              ...  \n",
              "4                  3423509          7999.55  \n",
              "3                  2349368          5503.90  \n",
              "2                  2240909          5248.60  \n",
              "1                  5082859         11859.95  \n",
              "0                  3069914          7162.35  \n",
              "\n",
              "[2035 rows x 8 columns]"
            ],
            "text/html": [
              "\n",
              "  <div id=\"df-b1b696aa-e34b-4a11-92c5-109891516088\">\n",
              "    <div class=\"colab-df-container\">\n",
              "      <div>\n",
              "<style scoped>\n",
              "    .dataframe tbody tr th:only-of-type {\n",
              "        vertical-align: middle;\n",
              "    }\n",
              "\n",
              "    .dataframe tbody tr th {\n",
              "        vertical-align: top;\n",
              "    }\n",
              "\n",
              "    .dataframe thead th {\n",
              "        text-align: right;\n",
              "    }\n",
              "</style>\n",
              "<table border=\"1\" class=\"dataframe\">\n",
              "  <thead>\n",
              "    <tr style=\"text-align: right;\">\n",
              "      <th></th>\n",
              "      <th>Date</th>\n",
              "      <th>Open</th>\n",
              "      <th>High</th>\n",
              "      <th>Low</th>\n",
              "      <th>Last</th>\n",
              "      <th>Close</th>\n",
              "      <th>Total Trade Quantity</th>\n",
              "      <th>Turnover (Lacs)</th>\n",
              "    </tr>\n",
              "  </thead>\n",
              "  <tbody>\n",
              "    <tr>\n",
              "      <th>2034</th>\n",
              "      <td>2010-07-21</td>\n",
              "      <td>122.10</td>\n",
              "      <td>123.00</td>\n",
              "      <td>121.05</td>\n",
              "      <td>121.10</td>\n",
              "      <td>121.55</td>\n",
              "      <td>658666</td>\n",
              "      <td>803.56</td>\n",
              "    </tr>\n",
              "    <tr>\n",
              "      <th>2033</th>\n",
              "      <td>2010-07-22</td>\n",
              "      <td>120.30</td>\n",
              "      <td>122.00</td>\n",
              "      <td>120.25</td>\n",
              "      <td>120.75</td>\n",
              "      <td>120.90</td>\n",
              "      <td>293312</td>\n",
              "      <td>355.17</td>\n",
              "    </tr>\n",
              "    <tr>\n",
              "      <th>2032</th>\n",
              "      <td>2010-07-23</td>\n",
              "      <td>121.80</td>\n",
              "      <td>121.95</td>\n",
              "      <td>120.25</td>\n",
              "      <td>120.35</td>\n",
              "      <td>120.65</td>\n",
              "      <td>281312</td>\n",
              "      <td>340.31</td>\n",
              "    </tr>\n",
              "    <tr>\n",
              "      <th>2031</th>\n",
              "      <td>2010-07-26</td>\n",
              "      <td>120.10</td>\n",
              "      <td>121.00</td>\n",
              "      <td>117.10</td>\n",
              "      <td>117.10</td>\n",
              "      <td>117.60</td>\n",
              "      <td>658440</td>\n",
              "      <td>780.01</td>\n",
              "    </tr>\n",
              "    <tr>\n",
              "      <th>2030</th>\n",
              "      <td>2010-07-27</td>\n",
              "      <td>117.60</td>\n",
              "      <td>119.50</td>\n",
              "      <td>112.00</td>\n",
              "      <td>118.80</td>\n",
              "      <td>118.65</td>\n",
              "      <td>586100</td>\n",
              "      <td>694.98</td>\n",
              "    </tr>\n",
              "    <tr>\n",
              "      <th>...</th>\n",
              "      <td>...</td>\n",
              "      <td>...</td>\n",
              "      <td>...</td>\n",
              "      <td>...</td>\n",
              "      <td>...</td>\n",
              "      <td>...</td>\n",
              "      <td>...</td>\n",
              "      <td>...</td>\n",
              "    </tr>\n",
              "    <tr>\n",
              "      <th>4</th>\n",
              "      <td>2018-09-24</td>\n",
              "      <td>233.55</td>\n",
              "      <td>239.20</td>\n",
              "      <td>230.75</td>\n",
              "      <td>234.00</td>\n",
              "      <td>233.30</td>\n",
              "      <td>3423509</td>\n",
              "      <td>7999.55</td>\n",
              "    </tr>\n",
              "    <tr>\n",
              "      <th>3</th>\n",
              "      <td>2018-09-25</td>\n",
              "      <td>233.30</td>\n",
              "      <td>236.75</td>\n",
              "      <td>232.00</td>\n",
              "      <td>236.25</td>\n",
              "      <td>236.10</td>\n",
              "      <td>2349368</td>\n",
              "      <td>5503.90</td>\n",
              "    </tr>\n",
              "    <tr>\n",
              "      <th>2</th>\n",
              "      <td>2018-09-26</td>\n",
              "      <td>240.00</td>\n",
              "      <td>240.00</td>\n",
              "      <td>232.50</td>\n",
              "      <td>235.00</td>\n",
              "      <td>234.25</td>\n",
              "      <td>2240909</td>\n",
              "      <td>5248.60</td>\n",
              "    </tr>\n",
              "    <tr>\n",
              "      <th>1</th>\n",
              "      <td>2018-09-27</td>\n",
              "      <td>234.55</td>\n",
              "      <td>236.80</td>\n",
              "      <td>231.10</td>\n",
              "      <td>233.80</td>\n",
              "      <td>233.25</td>\n",
              "      <td>5082859</td>\n",
              "      <td>11859.95</td>\n",
              "    </tr>\n",
              "    <tr>\n",
              "      <th>0</th>\n",
              "      <td>2018-09-28</td>\n",
              "      <td>234.05</td>\n",
              "      <td>235.95</td>\n",
              "      <td>230.20</td>\n",
              "      <td>233.50</td>\n",
              "      <td>233.75</td>\n",
              "      <td>3069914</td>\n",
              "      <td>7162.35</td>\n",
              "    </tr>\n",
              "  </tbody>\n",
              "</table>\n",
              "<p>2035 rows × 8 columns</p>\n",
              "</div>\n",
              "      <button class=\"colab-df-convert\" onclick=\"convertToInteractive('df-b1b696aa-e34b-4a11-92c5-109891516088')\"\n",
              "              title=\"Convert this dataframe to an interactive table.\"\n",
              "              style=\"display:none;\">\n",
              "        \n",
              "  <svg xmlns=\"http://www.w3.org/2000/svg\" height=\"24px\"viewBox=\"0 0 24 24\"\n",
              "       width=\"24px\">\n",
              "    <path d=\"M0 0h24v24H0V0z\" fill=\"none\"/>\n",
              "    <path d=\"M18.56 5.44l.94 2.06.94-2.06 2.06-.94-2.06-.94-.94-2.06-.94 2.06-2.06.94zm-11 1L8.5 8.5l.94-2.06 2.06-.94-2.06-.94L8.5 2.5l-.94 2.06-2.06.94zm10 10l.94 2.06.94-2.06 2.06-.94-2.06-.94-.94-2.06-.94 2.06-2.06.94z\"/><path d=\"M17.41 7.96l-1.37-1.37c-.4-.4-.92-.59-1.43-.59-.52 0-1.04.2-1.43.59L10.3 9.45l-7.72 7.72c-.78.78-.78 2.05 0 2.83L4 21.41c.39.39.9.59 1.41.59.51 0 1.02-.2 1.41-.59l7.78-7.78 2.81-2.81c.8-.78.8-2.07 0-2.86zM5.41 20L4 18.59l7.72-7.72 1.47 1.35L5.41 20z\"/>\n",
              "  </svg>\n",
              "      </button>\n",
              "      \n",
              "  <style>\n",
              "    .colab-df-container {\n",
              "      display:flex;\n",
              "      flex-wrap:wrap;\n",
              "      gap: 12px;\n",
              "    }\n",
              "\n",
              "    .colab-df-convert {\n",
              "      background-color: #E8F0FE;\n",
              "      border: none;\n",
              "      border-radius: 50%;\n",
              "      cursor: pointer;\n",
              "      display: none;\n",
              "      fill: #1967D2;\n",
              "      height: 32px;\n",
              "      padding: 0 0 0 0;\n",
              "      width: 32px;\n",
              "    }\n",
              "\n",
              "    .colab-df-convert:hover {\n",
              "      background-color: #E2EBFA;\n",
              "      box-shadow: 0px 1px 2px rgba(60, 64, 67, 0.3), 0px 1px 3px 1px rgba(60, 64, 67, 0.15);\n",
              "      fill: #174EA6;\n",
              "    }\n",
              "\n",
              "    [theme=dark] .colab-df-convert {\n",
              "      background-color: #3B4455;\n",
              "      fill: #D2E3FC;\n",
              "    }\n",
              "\n",
              "    [theme=dark] .colab-df-convert:hover {\n",
              "      background-color: #434B5C;\n",
              "      box-shadow: 0px 1px 3px 1px rgba(0, 0, 0, 0.15);\n",
              "      filter: drop-shadow(0px 1px 2px rgba(0, 0, 0, 0.3));\n",
              "      fill: #FFFFFF;\n",
              "    }\n",
              "  </style>\n",
              "\n",
              "      <script>\n",
              "        const buttonEl =\n",
              "          document.querySelector('#df-b1b696aa-e34b-4a11-92c5-109891516088 button.colab-df-convert');\n",
              "        buttonEl.style.display =\n",
              "          google.colab.kernel.accessAllowed ? 'block' : 'none';\n",
              "\n",
              "        async function convertToInteractive(key) {\n",
              "          const element = document.querySelector('#df-b1b696aa-e34b-4a11-92c5-109891516088');\n",
              "          const dataTable =\n",
              "            await google.colab.kernel.invokeFunction('convertToInteractive',\n",
              "                                                     [key], {});\n",
              "          if (!dataTable) return;\n",
              "\n",
              "          const docLinkHtml = 'Like what you see? Visit the ' +\n",
              "            '<a target=\"_blank\" href=https://colab.research.google.com/notebooks/data_table.ipynb>data table notebook</a>'\n",
              "            + ' to learn more about interactive tables.';\n",
              "          element.innerHTML = '';\n",
              "          dataTable['output_type'] = 'display_data';\n",
              "          await google.colab.output.renderOutput(dataTable, element);\n",
              "          const docLink = document.createElement('div');\n",
              "          docLink.innerHTML = docLinkHtml;\n",
              "          element.appendChild(docLink);\n",
              "        }\n",
              "      </script>\n",
              "    </div>\n",
              "  </div>\n",
              "  "
            ]
          },
          "metadata": {},
          "execution_count": 5
        }
      ]
    },
    {
      "cell_type": "markdown",
      "source": [
        "**HeatMap**"
      ],
      "metadata": {
        "id": "iblisZIHnyGE"
      }
    },
    {
      "cell_type": "code",
      "source": [
        "import matplotlib.pyplot as plt\n",
        "import seaborn as sns\n",
        "sns.heatmap(df.corr(),annot=True)\n",
        "plt.show()"
      ],
      "metadata": {
        "colab": {
          "base_uri": "https://localhost:8080/",
          "height": 359
        },
        "id": "Fi2g06J8eImd",
        "outputId": "21fe3071-b0ff-4640-fb39-2b965eb99f95"
      },
      "execution_count": null,
      "outputs": [
        {
          "output_type": "display_data",
          "data": {
            "text/plain": [
              "<Figure size 432x288 with 2 Axes>"
            ],
            "image/png": "[encoded data removed]"
          },
          "metadata": {
            "needs_background": "light"
          }
        }
      ]
    },
    {
      "cell_type": "code",
      "source": [
        "df_high=df.reset_index()['High']\n",
        "df_high"
      ],
      "metadata": {
        "colab": {
          "base_uri": "https://localhost:8080/"
        },
        "id": "f9enO_D3eKqS",
        "outputId": "0028b57f-6c59-4565-c364-6b68213e0231"
      },
      "execution_count": null,
      "outputs": [
        {
          "output_type": "execute_result",
          "data": {
            "text/plain": [
              "0       123.00\n",
              "1       122.00\n",
              "2       121.95\n",
              "3       121.00\n",
              "4       119.50\n",
              "         ...  \n",
              "2030    239.20\n",
              "2031    236.75\n",
              "2032    240.00\n",
              "2033    236.80\n",
              "2034    235.95\n",
              "Name: High, Length: 2035, dtype: float64"
            ]
          },
          "metadata": {},
          "execution_count": 7
        }
      ]
    },
    {
      "cell_type": "code",
      "source": [
        "plt.plot(df_high)\n",
        "plt.show()"
      ],
      "metadata": {
        "colab": {
          "base_uri": "https://localhost:8080/",
          "height": 265
        },
        "id": "K2vNUe-teMtK",
        "outputId": "d998df57-5f38-4c11-81c3-0c79828c3be0"
      },
      "execution_count": null,
      "outputs": [
        {
          "output_type": "display_data",
          "data": {
            "text/plain": [
              "<Figure size 432x288 with 1 Axes>"
            ],
            "image/png": "[encoded data removed]"
          },
          "metadata": {
            "needs_background": "light"
          }
        }
      ]
    },
    {
      "cell_type": "markdown",
      "source": [
        "**Data** **Preprocessing**"
      ],
      "metadata": {
        "id": "l-gOiU7toNZE"
      }
    },
    {
      "cell_type": "code",
      "source": [
        "from sklearn.preprocessing import MinMaxScaler\n",
        "\n",
        "m=MinMaxScaler()\n",
        "df_high=m.fit_transform(df_high.values.reshape(-1,1))\n",
        "df_high"
      ],
      "metadata": {
        "colab": {
          "base_uri": "https://localhost:8080/"
        },
        "id": "JsKUPylsePJJ",
        "outputId": "739e6d2e-b4bb-4bec-af09-440fa6a6cece"
      },
      "execution_count": null,
      "outputs": [
        {
          "output_type": "execute_result",
          "data": {
            "text/plain": [
              "array([[0.16344786],\n",
              "       [0.15938199],\n",
              "       [0.15917869],\n",
              "       ...,\n",
              "       [0.6391543 ],\n",
              "       [0.62614353],\n",
              "       [0.62268754]])"
            ]
          },
          "metadata": {},
          "execution_count": 9
        }
      ]
    },
    {
      "cell_type": "markdown",
      "source": [
        "**Training** **and** **Testing** **data**"
      ],
      "metadata": {
        "id": "UbMUS5iIoXp_"
      }
    },
    {
      "cell_type": "code",
      "source": [
        "train_size=int(len(df_high)*0.8)\n",
        "test_size=len(df_high)-train_size\n",
        "\n",
        "train_size,test_size"
      ],
      "metadata": {
        "colab": {
          "base_uri": "https://localhost:8080/"
        },
        "id": "sxWK0p_FeQ5x",
        "outputId": "321f7375-66ec-45b0-bd6d-3d3a36155fa5"
      },
      "execution_count": null,
      "outputs": [
        {
          "output_type": "execute_result",
          "data": {
            "text/plain": [
              "(1628, 407)"
            ]
          },
          "metadata": {},
          "execution_count": 10
        }
      ]
    },
    {
      "cell_type": "code",
      "source": [
        "train_data,test_data=df_high[:train_size,:],df_high[train_size:,:1]\n",
        "train_data.shape"
      ],
      "metadata": {
        "colab": {
          "base_uri": "https://localhost:8080/"
        },
        "id": "ZaNwBAZYeS-v",
        "outputId": "41b49904-1b95-42cd-bfb9-3d305d8c69cf"
      },
      "execution_count": null,
      "outputs": [
        {
          "output_type": "execute_result",
          "data": {
            "text/plain": [
              "(1628, 1)"
            ]
          },
          "metadata": {},
          "execution_count": 11
        }
      ]
    },
    {
      "cell_type": "code",
      "source": [
        "def create_data(data,time_step):\n",
        "    x_data,y_data=[],[]\n",
        "    for i in range(len(data)-time_step-1):\n",
        "        prev=data[i:i+time_step,0]\n",
        "        x_data.append(prev)\n",
        "        y_data.append(data[i+time_step,0])\n",
        "    return np.array(x_data),np.array(y_data)"
      ],
      "metadata": {
        "id": "S12U0CFueVL1"
      },
      "execution_count": null,
      "outputs": []
    },
    {
      "cell_type": "code",
      "source": [
        "time_step=100\n",
        "x_train,y_train=create_data(train_data,time_step)\n",
        "x_test,y_test=create_data(test_data,time_step)"
      ],
      "metadata": {
        "id": "te5yJiVweXUR"
      },
      "execution_count": null,
      "outputs": []
    },
    {
      "cell_type": "code",
      "source": [
        "# Make the data in to 3D data because, it is an LSTM requirement\n",
        "x_train=x_train.reshape(x_train.shape[0],x_train.shape[1],1)\n",
        "x_test=x_test.reshape(x_test.shape[0],x_test.shape[1],1)\n",
        "x_train.shape,y_train.shape"
      ],
      "metadata": {
        "colab": {
          "base_uri": "https://localhost:8080/"
        },
        "id": "qrfipWf8eZbb",
        "outputId": "0e0eff6c-b5a4-4a04-ffef-05dc93490dd2"
      },
      "execution_count": null,
      "outputs": [
        {
          "output_type": "execute_result",
          "data": {
            "text/plain": [
              "((1527, 100, 1), (1527,))"
            ]
          },
          "metadata": {},
          "execution_count": 14
        }
      ]
    },
    {
      "cell_type": "markdown",
      "source": [
        "**LSTM** **Model** **Creation**"
      ],
      "metadata": {
        "id": "OA7pM5X9owxJ"
      }
    },
    {
      "cell_type": "code",
      "source": [
        "import tensorflow as tf\n",
        "from tensorflow.python.keras.models import Sequential\n",
        "from tensorflow.python.keras.layers import Dense,LSTM\n",
        "\n",
        "model=Sequential()\n",
        "model.add(LSTM(50, return_sequences = True,input_shape=(100,1)))\n",
        "model.add(LSTM(50,return_sequences= True))\n",
        "model.add(LSTM(50))\n",
        "model.add(Dense(1))\n",
        "\n",
        "model.compile(loss='mean_squared_error', optimizer='adam')\n",
        "model.summary()"
      ],
      "metadata": {
        "colab": {
          "base_uri": "https://localhost:8080/"
        },
        "id": "biH1_HTpebiN",
        "outputId": "31280e8f-2bc6-41db-9c79-1a843c62a694"
      },
      "execution_count": null,
      "outputs": [
        {
          "output_type": "stream",
          "name": "stdout",
          "text": [
            "Model: \"sequential\"\n",
            "_________________________________________________________________\n",
            "Layer (type)                 Output Shape              Param #   \n",
            "=================================================================\n",
            "lstm (LSTM)                  (None, 100, 50)           10400     \n",
            "_________________________________________________________________\n",
            "lstm_1 (LSTM)                (None, 100, 50)           20200     \n",
            "_________________________________________________________________\n",
            "lstm_2 (LSTM)                (None, 50)                20200     \n",
            "_________________________________________________________________\n",
            "dense (Dense)                (None, 1)                 51        \n",
            "=================================================================\n",
            "Total params: 50,851\n",
            "Trainable params: 50,851\n",
            "Non-trainable params: 0\n",
            "_________________________________________________________________\n"
          ]
        }
      ]
    },
    {
      "cell_type": "code",
      "source": [
        "model.fit(x_train, y_train, validation_data= (x_test, y_test),epochs=100,batch_size=64,verbose=True)"
      ],
      "metadata": {
        "colab": {
          "base_uri": "https://localhost:8080/"
        },
        "id": "iDMui8ZZefNP",
        "outputId": "d990880d-b0bc-4a37-9383-203168527972"
      },
      "execution_count": null,
      "outputs": [
        {
          "output_type": "stream",
          "name": "stdout",
          "text": [
            "Epoch 1/100\n",
            "24/24 [==============================] - 22s 497ms/step - loss: 0.0110 - val_loss: 0.0435\n",
            "Epoch 2/100\n",
            "24/24 [==============================] - 11s 463ms/step - loss: 0.0016 - val_loss: 0.0057\n",
            "Epoch 3/100\n",
            "24/24 [==============================] - 10s 403ms/step - loss: 8.4208e-04 - val_loss: 0.0040\n",
            "Epoch 4/100\n",
            "24/24 [==============================] - 11s 443ms/step - loss: 7.7251e-04 - val_loss: 0.0038\n",
            "Epoch 5/100\n",
            "24/24 [==============================] - 11s 459ms/step - loss: 7.3401e-04 - val_loss: 0.0041\n",
            "Epoch 6/100\n",
            "24/24 [==============================] - 11s 457ms/step - loss: 7.0147e-04 - val_loss: 0.0048\n",
            "Epoch 7/100\n",
            "24/24 [==============================] - 11s 459ms/step - loss: 6.6708e-04 - val_loss: 0.0039\n",
            "Epoch 8/100\n",
            "24/24 [==============================] - 11s 459ms/step - loss: 6.3470e-04 - val_loss: 0.0048\n",
            "Epoch 9/100\n",
            "24/24 [==============================] - 10s 426ms/step - loss: 6.0682e-04 - val_loss: 0.0037\n",
            "Epoch 10/100\n",
            "24/24 [==============================] - 10s 418ms/step - loss: 6.1743e-04 - val_loss: 0.0044\n",
            "Epoch 11/100\n",
            "24/24 [==============================] - 11s 453ms/step - loss: 6.2674e-04 - val_loss: 0.0046\n",
            "Epoch 12/100\n",
            "24/24 [==============================] - 11s 448ms/step - loss: 5.4925e-04 - val_loss: 0.0039\n",
            "Epoch 13/100\n",
            "24/24 [==============================] - 11s 457ms/step - loss: 5.2663e-04 - val_loss: 0.0051\n",
            "Epoch 14/100\n",
            "24/24 [==============================] - 11s 447ms/step - loss: 5.3383e-04 - val_loss: 0.0071\n",
            "Epoch 15/100\n",
            "24/24 [==============================] - 10s 419ms/step - loss: 4.9721e-04 - val_loss: 0.0086\n",
            "Epoch 16/100\n",
            "24/24 [==============================] - 10s 411ms/step - loss: 4.7193e-04 - val_loss: 0.0077\n",
            "Epoch 17/100\n",
            "24/24 [==============================] - 11s 450ms/step - loss: 4.7065e-04 - val_loss: 0.0079\n",
            "Epoch 18/100\n",
            "24/24 [==============================] - 11s 449ms/step - loss: 4.5502e-04 - val_loss: 0.0072\n",
            "Epoch 19/100\n",
            "24/24 [==============================] - 11s 455ms/step - loss: 4.3257e-04 - val_loss: 0.0106\n",
            "Epoch 20/100\n",
            "24/24 [==============================] - 11s 448ms/step - loss: 4.2831e-04 - val_loss: 0.0129\n",
            "Epoch 21/100\n",
            "24/24 [==============================] - 10s 428ms/step - loss: 4.0441e-04 - val_loss: 0.0103\n",
            "Epoch 22/100\n",
            "24/24 [==============================] - 10s 423ms/step - loss: 4.3134e-04 - val_loss: 0.0118\n",
            "Epoch 23/100\n",
            "24/24 [==============================] - 11s 462ms/step - loss: 3.9399e-04 - val_loss: 0.0065\n",
            "Epoch 24/100\n",
            "24/24 [==============================] - 11s 461ms/step - loss: 4.1921e-04 - val_loss: 0.0087\n",
            "Epoch 25/100\n",
            "24/24 [==============================] - 11s 458ms/step - loss: 3.9406e-04 - val_loss: 0.0063\n",
            "Epoch 26/100\n",
            "24/24 [==============================] - 11s 450ms/step - loss: 3.8055e-04 - val_loss: 0.0100\n",
            "Epoch 27/100\n",
            "24/24 [==============================] - 11s 456ms/step - loss: 3.6249e-04 - val_loss: 0.0063\n",
            "Epoch 28/100\n",
            "24/24 [==============================] - 10s 407ms/step - loss: 3.4586e-04 - val_loss: 0.0058\n",
            "Epoch 29/100\n",
            "24/24 [==============================] - 11s 448ms/step - loss: 3.2072e-04 - val_loss: 0.0073\n",
            "Epoch 30/100\n",
            "24/24 [==============================] - 11s 452ms/step - loss: 3.0838e-04 - val_loss: 0.0084\n",
            "Epoch 31/100\n",
            "24/24 [==============================] - 11s 448ms/step - loss: 3.1105e-04 - val_loss: 0.0072\n",
            "Epoch 32/100\n",
            "24/24 [==============================] - 11s 448ms/step - loss: 3.2435e-04 - val_loss: 0.0035\n",
            "Epoch 33/100\n",
            "24/24 [==============================] - 11s 452ms/step - loss: 2.9658e-04 - val_loss: 0.0054\n",
            "Epoch 34/100\n",
            "24/24 [==============================] - 10s 402ms/step - loss: 2.6761e-04 - val_loss: 0.0041\n",
            "Epoch 35/100\n",
            "24/24 [==============================] - 11s 446ms/step - loss: 2.8706e-04 - val_loss: 0.0048\n",
            "Epoch 36/100\n",
            "24/24 [==============================] - 11s 473ms/step - loss: 2.7037e-04 - val_loss: 0.0083\n",
            "Epoch 37/100\n",
            "24/24 [==============================] - 11s 449ms/step - loss: 2.5675e-04 - val_loss: 0.0039\n",
            "Epoch 38/100\n",
            "24/24 [==============================] - 11s 452ms/step - loss: 2.3507e-04 - val_loss: 0.0029\n",
            "Epoch 39/100\n",
            "24/24 [==============================] - 11s 454ms/step - loss: 2.3451e-04 - val_loss: 0.0027\n",
            "Epoch 40/100\n",
            "24/24 [==============================] - 10s 400ms/step - loss: 2.3888e-04 - val_loss: 0.0063\n",
            "Epoch 41/100\n",
            "24/24 [==============================] - 11s 440ms/step - loss: 2.6749e-04 - val_loss: 0.0023\n",
            "Epoch 42/100\n",
            "24/24 [==============================] - 11s 449ms/step - loss: 2.3218e-04 - val_loss: 0.0042\n",
            "Epoch 43/100\n",
            "24/24 [==============================] - 11s 446ms/step - loss: 2.0925e-04 - val_loss: 0.0033\n",
            "Epoch 44/100\n",
            "24/24 [==============================] - 11s 449ms/step - loss: 1.9903e-04 - val_loss: 0.0021\n",
            "Epoch 45/100\n",
            "24/24 [==============================] - 11s 445ms/step - loss: 1.9776e-04 - val_loss: 0.0035\n",
            "Epoch 46/100\n",
            "24/24 [==============================] - 10s 397ms/step - loss: 1.8590e-04 - val_loss: 0.0034\n",
            "Epoch 47/100\n",
            "24/24 [==============================] - 11s 445ms/step - loss: 1.8888e-04 - val_loss: 0.0019\n",
            "Epoch 48/100\n",
            "24/24 [==============================] - 11s 451ms/step - loss: 1.8420e-04 - val_loss: 0.0028\n",
            "Epoch 49/100\n",
            "24/24 [==============================] - 11s 450ms/step - loss: 1.8120e-04 - val_loss: 0.0031\n",
            "Epoch 50/100\n",
            "24/24 [==============================] - 11s 442ms/step - loss: 1.6846e-04 - val_loss: 0.0024\n",
            "Epoch 51/100\n",
            "24/24 [==============================] - 10s 435ms/step - loss: 1.5836e-04 - val_loss: 0.0023\n",
            "Epoch 52/100\n",
            "24/24 [==============================] - 10s 398ms/step - loss: 1.5576e-04 - val_loss: 0.0019\n",
            "Epoch 53/100\n",
            "24/24 [==============================] - 11s 449ms/step - loss: 1.5754e-04 - val_loss: 0.0017\n",
            "Epoch 54/100\n",
            "24/24 [==============================] - 11s 456ms/step - loss: 1.5380e-04 - val_loss: 0.0013\n",
            "Epoch 55/100\n",
            "24/24 [==============================] - 11s 452ms/step - loss: 1.4853e-04 - val_loss: 0.0014\n",
            "Epoch 56/100\n",
            "24/24 [==============================] - 11s 457ms/step - loss: 1.4556e-04 - val_loss: 0.0020\n",
            "Epoch 57/100\n",
            "24/24 [==============================] - 11s 446ms/step - loss: 1.3810e-04 - val_loss: 0.0011\n",
            "Epoch 58/100\n",
            "24/24 [==============================] - 10s 397ms/step - loss: 1.6467e-04 - val_loss: 0.0034\n",
            "Epoch 59/100\n",
            "24/24 [==============================] - 11s 449ms/step - loss: 1.7970e-04 - val_loss: 0.0026\n",
            "Epoch 60/100\n",
            "24/24 [==============================] - 11s 447ms/step - loss: 1.3604e-04 - val_loss: 9.9129e-04\n",
            "Epoch 61/100\n",
            "24/24 [==============================] - 11s 450ms/step - loss: 1.3031e-04 - val_loss: 6.6598e-04\n",
            "Epoch 62/100\n",
            "24/24 [==============================] - 11s 456ms/step - loss: 1.3218e-04 - val_loss: 0.0012\n",
            "Epoch 63/100\n",
            "24/24 [==============================] - 11s 450ms/step - loss: 1.2893e-04 - val_loss: 7.5761e-04\n",
            "Epoch 64/100\n",
            "24/24 [==============================] - 10s 419ms/step - loss: 1.3222e-04 - val_loss: 5.2983e-04\n",
            "Epoch 65/100\n",
            "24/24 [==============================] - 11s 461ms/step - loss: 1.3569e-04 - val_loss: 4.7850e-04\n",
            "Epoch 66/100\n",
            "24/24 [==============================] - 11s 474ms/step - loss: 1.2695e-04 - val_loss: 0.0012\n",
            "Epoch 67/100\n",
            "24/24 [==============================] - 11s 456ms/step - loss: 1.3631e-04 - val_loss: 7.5375e-04\n",
            "Epoch 68/100\n",
            "24/24 [==============================] - 11s 465ms/step - loss: 1.2011e-04 - val_loss: 8.2188e-04\n",
            "Epoch 69/100\n",
            "24/24 [==============================] - 11s 452ms/step - loss: 1.2761e-04 - val_loss: 0.0010\n",
            "Epoch 70/100\n",
            "24/24 [==============================] - 10s 432ms/step - loss: 1.5291e-04 - val_loss: 8.1742e-04\n",
            "Epoch 71/100\n",
            "24/24 [==============================] - 10s 409ms/step - loss: 1.2074e-04 - val_loss: 5.4049e-04\n",
            "Epoch 72/100\n",
            "24/24 [==============================] - 11s 453ms/step - loss: 1.1723e-04 - val_loss: 5.9369e-04\n",
            "Epoch 73/100\n",
            "24/24 [==============================] - 11s 450ms/step - loss: 1.1588e-04 - val_loss: 7.4411e-04\n",
            "Epoch 74/100\n",
            "24/24 [==============================] - 11s 457ms/step - loss: 1.1951e-04 - val_loss: 8.2746e-04\n",
            "Epoch 75/100\n",
            "24/24 [==============================] - 11s 454ms/step - loss: 1.2975e-04 - val_loss: 7.7312e-04\n",
            "Epoch 76/100\n",
            "24/24 [==============================] - 10s 420ms/step - loss: 1.2317e-04 - val_loss: 7.4686e-04\n",
            "Epoch 77/100\n",
            "24/24 [==============================] - 10s 412ms/step - loss: 1.2173e-04 - val_loss: 0.0011\n",
            "Epoch 78/100\n",
            "24/24 [==============================] - 11s 446ms/step - loss: 1.1396e-04 - val_loss: 4.9688e-04\n",
            "Epoch 79/100\n",
            "24/24 [==============================] - 11s 448ms/step - loss: 1.3604e-04 - val_loss: 5.6737e-04\n",
            "Epoch 80/100\n",
            "24/24 [==============================] - 11s 446ms/step - loss: 1.1598e-04 - val_loss: 6.5151e-04\n",
            "Epoch 81/100\n",
            "24/24 [==============================] - 11s 447ms/step - loss: 1.1404e-04 - val_loss: 5.6650e-04\n",
            "Epoch 82/100\n",
            "24/24 [==============================] - 10s 423ms/step - loss: 1.4122e-04 - val_loss: 5.1706e-04\n",
            "Epoch 83/100\n",
            "24/24 [==============================] - 10s 415ms/step - loss: 1.4483e-04 - val_loss: 5.2400e-04\n",
            "Epoch 84/100\n",
            "24/24 [==============================] - 11s 447ms/step - loss: 1.3072e-04 - val_loss: 0.0010\n",
            "Epoch 85/100\n",
            "24/24 [==============================] - 11s 450ms/step - loss: 1.2127e-04 - val_loss: 5.6310e-04\n",
            "Epoch 86/100\n",
            "24/24 [==============================] - 11s 445ms/step - loss: 1.1765e-04 - val_loss: 7.6520e-04\n",
            "Epoch 87/100\n",
            "24/24 [==============================] - 11s 447ms/step - loss: 1.1409e-04 - val_loss: 8.8358e-04\n",
            "Epoch 88/100\n",
            "24/24 [==============================] - 9s 395ms/step - loss: 1.1519e-04 - val_loss: 5.6395e-04\n",
            "Epoch 89/100\n",
            "24/24 [==============================] - 11s 444ms/step - loss: 1.1308e-04 - val_loss: 8.4178e-04\n",
            "Epoch 90/100\n",
            "24/24 [==============================] - 11s 448ms/step - loss: 1.1175e-04 - val_loss: 0.0012\n",
            "Epoch 91/100\n",
            "24/24 [==============================] - 11s 452ms/step - loss: 1.2872e-04 - val_loss: 9.3748e-04\n",
            "Epoch 92/100\n",
            "24/24 [==============================] - 11s 452ms/step - loss: 1.1340e-04 - val_loss: 5.9491e-04\n",
            "Epoch 93/100\n",
            "24/24 [==============================] - 11s 441ms/step - loss: 1.1390e-04 - val_loss: 7.3058e-04\n",
            "Epoch 94/100\n",
            "24/24 [==============================] - 9s 392ms/step - loss: 1.1529e-04 - val_loss: 0.0010\n",
            "Epoch 95/100\n",
            "24/24 [==============================] - 11s 446ms/step - loss: 1.1170e-04 - val_loss: 0.0010\n",
            "Epoch 96/100\n",
            "24/24 [==============================] - 11s 448ms/step - loss: 1.0931e-04 - val_loss: 0.0010\n",
            "Epoch 97/100\n",
            "24/24 [==============================] - 11s 442ms/step - loss: 1.1220e-04 - val_loss: 7.6828e-04\n",
            "Epoch 98/100\n",
            "24/24 [==============================] - 11s 453ms/step - loss: 1.1615e-04 - val_loss: 0.0013\n",
            "Epoch 99/100\n",
            "24/24 [==============================] - 10s 423ms/step - loss: 1.1197e-04 - val_loss: 7.0752e-04\n",
            "Epoch 100/100\n",
            "24/24 [==============================] - 10s 410ms/step - loss: 1.2148e-04 - val_loss: 4.7688e-04\n"
          ]
        },
        {
          "output_type": "execute_result",
          "data": {
            "text/plain": [
              "<tensorflow.python.keras.callbacks.History at 0x7f4b4055a3a0>"
            ]
          },
          "metadata": {},
          "execution_count": 16
        }
      ]
    },
    {
      "cell_type": "markdown",
      "source": [
        "**Model** **Prediction**"
      ],
      "metadata": {
        "id": "MLNcHoPAo9BW"
      }
    },
    {
      "cell_type": "code",
      "source": [
        "train_pre=model.predict(x_train)\n",
        "test_pre=model.predict(x_test)"
      ],
      "metadata": {
        "id": "JuGC4McqjEwa"
      },
      "execution_count": null,
      "outputs": []
    },
    {
      "cell_type": "code",
      "source": [
        "from math import sqrt\n",
        "from sklearn.metrics import mean_squared_error\n",
        "train_er=sqrt(mean_squared_error(y_train,train_pre))\n",
        "test_er=sqrt(mean_squared_error(y_test,test_pre))\n",
        "train_er, test_er"
      ],
      "metadata": {
        "colab": {
          "base_uri": "https://localhost:8080/"
        },
        "id": "jkSeHcjnjTp5",
        "outputId": "110ef6a2-6dee-433d-dfd7-14cb2d509dcb"
      },
      "execution_count": null,
      "outputs": [
        {
          "output_type": "execute_result",
          "data": {
            "text/plain": [
              "(0.011972346524049852, 0.021837666941188646)"
            ]
          },
          "metadata": {},
          "execution_count": 18
        }
      ]
    },
    {
      "cell_type": "code",
      "source": [
        "train_pre=m.inverse_transform(train_pre)\n",
        "test_pre=m.inverse_transform(test_pre)"
      ],
      "metadata": {
        "id": "4J50_MibjhGZ"
      },
      "execution_count": null,
      "outputs": []
    },
    {
      "cell_type": "code",
      "source": [
        "look_back=100\n",
        "train_preplot=np.empty_like(df_high)\n",
        "train_preplot[:,:]=np.nan\n",
        "train_preplot[look_back:len(train_pre)+look_back,:]=train_pre\n",
        "\n",
        "\n",
        "test_preplot=np.empty_like(df_high)\n",
        "test_preplot[:,:]=np.nan\n",
        "test_preplot[len(train_pre)+(look_back *2)+1 :len(df_high)-1, :]=test_pre"
      ],
      "metadata": {
        "id": "JpqPcgYJkCpo"
      },
      "execution_count": null,
      "outputs": []
    },
    {
      "cell_type": "markdown",
      "source": [
        "**Data** **Visualization**"
      ],
      "metadata": {
        "id": "lT8x0W19pQq8"
      }
    },
    {
      "cell_type": "code",
      "source": [
        "plt.plot(m.inverse_transform(df_high))\n",
        "plt.plot(train_preplot)\n",
        "plt.plot(test_preplot)\n",
        "\n",
        "plt.legend(labels =['Total data','Train data','Predicted data'])\n",
        "plt.show()"
      ],
      "metadata": {
        "colab": {
          "base_uri": "https://localhost:8080/",
          "height": 265
        },
        "id": "r-JFTX6ekja5",
        "outputId": "601a2823-3216-4d0e-f275-a8beb5ee7f83"
      },
      "execution_count": null,
      "outputs": [
        {
          "output_type": "display_data",
          "data": {
            "text/plain": [
              "<Figure size 432x288 with 1 Axes>"
            ],
            "image/png": "[encoded data removed]"
          },
          "metadata": {
            "needs_background": "light"
          }
        }
      ]
    },
    {
      "cell_type": "markdown",
      "source": [],
      "metadata": {
        "id": "sgn14Gggp7rr"
      }
    }
  ]
}